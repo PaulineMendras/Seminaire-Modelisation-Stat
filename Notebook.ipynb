{
 "cells": [
  {
   "cell_type": "markdown",
   "id": "789f5c76",
   "metadata": {},
   "source": [
    "# Projet Séminaire Modélisation Statistique"
   ]
  },
  {
   "cell_type": "markdown",
   "id": "32d2e3a4",
   "metadata": {},
   "source": [
    "### Test"
   ]
  },
  {
   "cell_type": "code",
   "execution_count": null,
   "id": "f8e7dc55",
   "metadata": {},
   "outputs": [],
   "source": [
    "#Test"
   ]
  }
 ],
 "metadata": {
  "kernelspec": {
   "display_name": "R",
   "language": "R",
   "name": "ir"
  },
  "language_info": {
   "codemirror_mode": "r",
   "file_extension": ".r",
   "mimetype": "text/x-r-source",
   "name": "R",
   "pygments_lexer": "r",
   "version": "4.1.2"
  }
 },
 "nbformat": 4,
 "nbformat_minor": 5
}
